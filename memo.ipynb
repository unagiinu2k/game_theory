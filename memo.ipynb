{
 "cells": [
  {
   "cell_type": "markdown",
   "metadata": {},
   "source": [
    "test envを使っていろいろgame theory関係のライブラリをインストールしつつ、概念理解していく"
   ]
  },
  {
   "cell_type": "markdown",
   "metadata": {},
   "source": [
    "# 戦略的ゲーム（＝標準型ゲーム）\n",
    "全ての意思決定が同時になされるようなゲーム"
   ]
  },
  {
   "cell_type": "markdown",
   "metadata": {},
   "source": [
    "# 展開型ゲーム\n",
    "時間の概念が導入されたゲーム（？）\n",
    "\n",
    "https://ja.wikipedia.org/wiki/%E5%B1%95%E9%96%8B%E5%9E%8B%E3%82%B2%E3%83%BC%E3%83%A0"
   ]
  },
  {
   "cell_type": "markdown",
   "metadata": {},
   "source": [
    "## 情報集合 (information set)\n",
    "\n",
    "例えば、\n",
    "- 議決権投票が終わってはいるがAんい開示されていない状況でAはなんらかのアクションを取らなければならない\n",
    "- ある議案が可決したときと否決されたときではgame tree上の違うnode $n_0, n_1$である\n",
    "- そして次のAのアクション次第で４つのnode$n_{00},~n_{01},~n_{10},~n_{11}$に分岐する\n",
    "- が、Aは自分が$n_0$にいるのか$n_1$にいるのかわからず、\n",
    "$\n",
    "\\begin{cases}   \n",
    "n_{00}\\text{かもしれないし、}n_{10}\\text{かもしれない選択肢}\\\\\n",
    "n_{01}\\text{かもしれないし、}n_{11}\\text{かもしれない選択肢}\n",
    "\\end{cases}\n",
    "$\n",
    "のいずれかの選択を迫られる\n",
    "- このようなとき$n_0$と$n_1$の集合は情報集合である\n"
   ]
  },
  {
   "cell_type": "markdown",
   "metadata": {},
   "source": [
    "## 展開型ゲームと戦略型ゲーム\n",
    "- 展開型ゲームからconsistentな戦略的ゲームを一意に決定できる\n",
    "- が、逆は必ずしも可能ではない\n",
    "    - 一つの戦略的ゲームに複数の展開型ゲームが対応しうる（？）\n",
    "    - 戦略型ゲームの得点表をみてもツリーの形は特定できないということ（たぶん）\n",
    "    "
   ]
  },
  {
   "cell_type": "markdown",
   "metadata": {},
   "source": [
    "### wikipedia(en)の例\n",
    "<img src = \"https://upload.wikimedia.org/wikipedia/commons/d/de/Backwards_Induction_Example_2.png\">"
   ]
  },
  {
   "cell_type": "markdown",
   "metadata": {},
   "source": [
    "- 上記で原点をxで表し、そこから上に行った場合は0を、下に行った場合は１を付加していくことでノードの位置を表すことにする\n",
    "- 相手の手筋に関する前提をおかず、到達する可能性がある自分のターンのノードにおける選択肢を羅列する\n",
    "    - ノード間のトポロジーは無視するのがポイント（？）\n",
    "- Player 1のターンのノードはx , x10であり、それぞれUD,pqの選択肢があるのでそれらの直積をとると\n",
    "$$\n",
    "\\begin{align}\n",
    "\\text{[xにおける選択][x10における選択]}\\in \\left\\{[U][p],~ [U][q] ,~ [D][p], ~[D][q]\\right\\}\n",
    "\\end{align}\n",
    "$$\n",
    "\n",
    "- Player 2のターンのノードはx0 , x1であり、それぞれの選択肢の直積を取ると\n",
    "$$\n",
    "\\begin{align}\n",
    "\\text{[x0における選択][x1における選択]}\\in \\left\\{[T][L],~ [T][R] ,~ [B][L], ~[B][R]\\right\\}\n",
    "\\end{align}\n",
    "$$\n",
    "\n",
    "- これらの[]を外したのがwikipedia(en)における戦略のノーテーションである"
   ]
  },
  {
   "cell_type": "markdown",
   "metadata": {},
   "source": [
    "## ナッシュ均衡\n",
    "- 展開型ゲームから戦略的ゲームをつくる\n",
    "- その戦略的ゲーム（標準型ゲーム）でのナッシュ均衡が「展開型ゲームでのナッシュ均衡」\n",
    "\n"
   ]
  },
  {
   "cell_type": "markdown",
   "metadata": {},
   "source": [
    "## から脅し（empty threat）"
   ]
  },
  {
   "cell_type": "markdown",
   "metadata": {},
   "source": [
    "- ナッシュ均衡であってもナンセンスなケースが存在\n",
    "- このため動学ゲームではナッシュ均衡は適切な解概念ではない"
   ]
  },
  {
   "cell_type": "markdown",
   "metadata": {},
   "source": [
    "## 部分ゲーム"
   ]
  },
  {
   "cell_type": "markdown",
   "metadata": {},
   "source": [
    "- あるノードを起点とする全てのノードの集合\n",
    "- 起点のノードは複数ノードを含む情報集合に含まれない"
   ]
  },
  {
   "cell_type": "markdown",
   "metadata": {},
   "source": [
    "## 部分ゲーム完全均衡\n",
    "\n",
    "https://ja.wikipedia.org/wiki/%E9%83%A8%E5%88%86%E3%82%B2%E3%83%BC%E3%83%A0%E5%AE%8C%E5%85%A8%E5%9D%87%E8%A1%A1\n",
    "\n",
    "- 全ての部分ゲームにおいてナッシュ均衡となる戦略の組"
   ]
  },
  {
   "cell_type": "markdown",
   "metadata": {},
   "source": [
    "### ということだがやや納得がいかないのでもう少し考えてみる\n",
    "https://ja.wikipedia.org/wiki/%E9%83%A8%E5%88%86%E3%82%B2%E3%83%BC%E3%83%A0%E5%AE%8C%E5%85%A8%E5%9D%87%E8%A1%A1\n",
    "の例だと\n",
    "- 部分ゲーム完全均衡である\n",
    "$$\n",
    "\\{{\\rm Dp, TL}\\}\n",
    "$$\n",
    "のうち、$T$は実際にはめぐってこないであろうPlayer 2の手順を示している\n",
    "- しかし、ノードx0における部分ゲームは\n",
    "    - Player 1の選択肢：なし\n",
    "    - Player 2の選択肢：$\\{T , B\\}$\n",
    "   \n",
    "  であり、Tがこの部分ゲームのナッシュ均衡であることがわかる\n",
    "  \n",
    "$$\n",
    "\\{{\\rm Dp, TL}\\}\n",
    "$$\n",
    "のように記述されているということは全ての情報集合における手順が指定されているということであるので、、「部分ゲーム完全均衡」の定義である「すべての部分ゲームにおいてナッシュ均衡」というrequirementを満たしうることがわかる\n"
   ]
  },
  {
   "cell_type": "markdown",
   "metadata": {},
   "source": [
    "#### 未整理（おそらく削除）\n",
    "- ノード$n_{10}$を含む部分ゲーム, $n_{11}$を含む部分ゲームはdisjointであるとする\n",
    "- $n_{11}$を含むパスが「最適」だとする\n",
    "- このとき$n_{10}$から始まる部分ゲームには最適な「パス」は登場しない\n",
    "- しかし、こちらでも最適な組み合わせを指定しておくことで「すべての部分ゲームでのナッシュ均衡」であるような解ということができる（？）"
   ]
  },
  {
   "cell_type": "code",
   "execution_count": null,
   "metadata": {},
   "outputs": [],
   "source": []
  }
 ],
 "metadata": {
  "kernelspec": {
   "display_name": "test",
   "language": "python",
   "name": "test"
  },
  "language_info": {
   "codemirror_mode": {
    "name": "ipython",
    "version": 3
   },
   "file_extension": ".py",
   "mimetype": "text/x-python",
   "name": "python",
   "nbconvert_exporter": "python",
   "pygments_lexer": "ipython3",
   "version": "3.7.3"
  },
  "toc-autonumbering": true
 },
 "nbformat": 4,
 "nbformat_minor": 4
}
